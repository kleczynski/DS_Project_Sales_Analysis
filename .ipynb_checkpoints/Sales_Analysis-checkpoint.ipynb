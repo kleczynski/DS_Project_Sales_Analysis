{
 "cells": [
  {
   "cell_type": "markdown",
   "id": "6b46b4b3-e586-4d43-bb28-b1bcfd11e57c",
   "metadata": {},
   "source": [
    "# Sales Analysis"
   ]
  },
  {
   "cell_type": "markdown",
   "id": "5ffa38a9-f8d9-4622-862e-4c6e4d951b0e",
   "metadata": {},
   "source": [
    "### import dependecies"
   ]
  },
  {
   "cell_type": "code",
   "execution_count": 2,
   "id": "94121f68-f62e-4468-ab68-272c50c2e6a6",
   "metadata": {},
   "outputs": [],
   "source": [
    "import pandas as pd\n",
    "import numpy as np\n",
    "import matplotlib.pyplot as plt\n",
    "import os"
   ]
  },
  {
   "cell_type": "markdown",
   "id": "fff3bdf4-6a5e-442b-9e49-635407b98de8",
   "metadata": {},
   "source": [
    "### Marging 12 months of sales data into a single file "
   ]
  },
  {
   "cell_type": "code",
   "execution_count": 5,
   "id": "b97e9886-d6d7-4cbe-bb44-0b9b510dfdbf",
   "metadata": {},
   "outputs": [
    {
     "ename": "FileNotFoundError",
     "evalue": "[Errno 2] No such file or directory: 'Desktop/ProjectsML/Pandas/Pandas_Sales_Analysis/Sales_data/'",
     "output_type": "error",
     "traceback": [
      "\u001b[0;31m---------------------------------------------------------------------------\u001b[0m",
      "\u001b[0;31mFileNotFoundError\u001b[0m                         Traceback (most recent call last)",
      "Input \u001b[0;32mIn [5]\u001b[0m, in \u001b[0;36m<cell line: 2>\u001b[0;34m()\u001b[0m\n\u001b[1;32m      1\u001b[0m path \u001b[38;5;241m=\u001b[39m \u001b[38;5;124m'\u001b[39m\u001b[38;5;124mDesktop/ProjectsML/Pandas/Pandas_Sales_Analysis/Sales_data/\u001b[39m\u001b[38;5;124m'\u001b[39m\n\u001b[0;32m----> 2\u001b[0m \u001b[43mos\u001b[49m\u001b[38;5;241;43m.\u001b[39;49m\u001b[43mlistdir\u001b[49m\u001b[43m(\u001b[49m\u001b[43mpath\u001b[49m\u001b[43m)\u001b[49m\n",
      "\u001b[0;31mFileNotFoundError\u001b[0m: [Errno 2] No such file or directory: 'Desktop/ProjectsML/Pandas/Pandas_Sales_Analysis/Sales_data/'"
     ]
    }
   ],
   "source": [
    "path = '/Users/kacperleczynski/Desktop/ProjectsML/Pandas/Pandas_Sales_Analysis/Sales_data'\n",
    "os.listdir(path)"
   ]
  },
  {
   "cell_type": "code",
   "execution_count": null,
   "id": "dfcd31a8-4176-455a-8176-8712c924af4d",
   "metadata": {},
   "outputs": [],
   "source": []
  }
 ],
 "metadata": {
  "kernelspec": {
   "display_name": "Python 3 (ipykernel)",
   "language": "python",
   "name": "python3"
  },
  "language_info": {
   "codemirror_mode": {
    "name": "ipython",
    "version": 3
   },
   "file_extension": ".py",
   "mimetype": "text/x-python",
   "name": "python",
   "nbconvert_exporter": "python",
   "pygments_lexer": "ipython3",
   "version": "3.9.12"
  }
 },
 "nbformat": 4,
 "nbformat_minor": 5
}
